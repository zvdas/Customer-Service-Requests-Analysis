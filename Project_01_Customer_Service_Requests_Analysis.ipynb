{
 "cells": [
  {
   "cell_type": "markdown",
   "metadata": {},
   "source": [
    "# Project 2 - Perform Facial Recognition with Deep Learning in Keras Using CNN"
   ]
  },
  {
   "cell_type": "code",
   "execution_count": 1,
   "metadata": {
    "colab": {},
    "colab_type": "code",
    "id": "iqjEG_Cxwhrg"
   },
   "outputs": [],
   "source": [
    "import pandas as pd\n",
    "import numpy as np\n",
    "import zipfile\n",
    "import datetime\n",
    "import matplotlib.pyplot as plt\n",
    "import scipy.stats as stats\n",
    "from scipy.stats import chi2_contingency"
   ]
  },
  {
   "cell_type": "markdown",
   "metadata": {
    "colab_type": "text",
    "id": "77TlbdcNusq7"
   },
   "source": [
    "## Task 1 - Import a 311 NYC service request."
   ]
  },
  {
   "cell_type": "code",
   "execution_count": 2,
   "metadata": {},
   "outputs": [],
   "source": [
    "with zipfile.ZipFile('Data Science with Python Two.zip','r') as zip_ref:\n",
    "    zip_ref.extractall('Project 01 - Customer Service Requests Analysis')"
   ]
  },
  {
   "cell_type": "code",
   "execution_count": 3,
   "metadata": {
    "colab": {
     "base_uri": "https://localhost:8080/"
    },
    "colab_type": "code",
    "id": "bTyvD_wPIYHN",
    "outputId": "a0862e0b-81d5-480e-ef36-41adb31927f4"
   },
   "outputs": [
    {
     "name": "stderr",
     "output_type": "stream",
     "text": [
      "c:\\users\\jude\\appdata\\local\\programs\\python\\python39\\lib\\site-packages\\IPython\\core\\interactiveshell.py:3155: DtypeWarning: Columns (48,49) have mixed types.Specify dtype option on import or set low_memory=False.\n",
      "  has_raised = await self.run_ast_nodes(code_ast.body, cell_name,\n"
     ]
    },
    {
     "data": {
      "text/html": [
       "<div>\n",
       "<style scoped>\n",
       "    .dataframe tbody tr th:only-of-type {\n",
       "        vertical-align: middle;\n",
       "    }\n",
       "\n",
       "    .dataframe tbody tr th {\n",
       "        vertical-align: top;\n",
       "    }\n",
       "\n",
       "    .dataframe thead th {\n",
       "        text-align: right;\n",
       "    }\n",
       "</style>\n",
       "<table border=\"1\" class=\"dataframe\">\n",
       "  <thead>\n",
       "    <tr style=\"text-align: right;\">\n",
       "      <th></th>\n",
       "      <th>Unique Key</th>\n",
       "      <th>Created Date</th>\n",
       "      <th>Closed Date</th>\n",
       "      <th>Agency</th>\n",
       "      <th>Agency Name</th>\n",
       "      <th>Complaint Type</th>\n",
       "      <th>Descriptor</th>\n",
       "      <th>Location Type</th>\n",
       "      <th>Incident Zip</th>\n",
       "      <th>Incident Address</th>\n",
       "      <th>...</th>\n",
       "      <th>Bridge Highway Name</th>\n",
       "      <th>Bridge Highway Direction</th>\n",
       "      <th>Road Ramp</th>\n",
       "      <th>Bridge Highway Segment</th>\n",
       "      <th>Garage Lot Name</th>\n",
       "      <th>Ferry Direction</th>\n",
       "      <th>Ferry Terminal Name</th>\n",
       "      <th>Latitude</th>\n",
       "      <th>Longitude</th>\n",
       "      <th>Location</th>\n",
       "    </tr>\n",
       "  </thead>\n",
       "  <tbody>\n",
       "    <tr>\n",
       "      <th>0</th>\n",
       "      <td>32310363</td>\n",
       "      <td>2015-12-31 23:59:45</td>\n",
       "      <td>2016-01-01 00:55:00</td>\n",
       "      <td>NYPD</td>\n",
       "      <td>New York City Police Department</td>\n",
       "      <td>Noise - Street/Sidewalk</td>\n",
       "      <td>Loud Music/Party</td>\n",
       "      <td>Street/Sidewalk</td>\n",
       "      <td>10034.0</td>\n",
       "      <td>71 VERMILYEA AVENUE</td>\n",
       "      <td>...</td>\n",
       "      <td>NaN</td>\n",
       "      <td>NaN</td>\n",
       "      <td>NaN</td>\n",
       "      <td>NaN</td>\n",
       "      <td>NaN</td>\n",
       "      <td>NaN</td>\n",
       "      <td>NaN</td>\n",
       "      <td>40.865682</td>\n",
       "      <td>-73.923501</td>\n",
       "      <td>(40.86568153633767, -73.92350095571744)</td>\n",
       "    </tr>\n",
       "    <tr>\n",
       "      <th>1</th>\n",
       "      <td>32309934</td>\n",
       "      <td>2015-12-31 23:59:44</td>\n",
       "      <td>2016-01-01 01:26:00</td>\n",
       "      <td>NYPD</td>\n",
       "      <td>New York City Police Department</td>\n",
       "      <td>Blocked Driveway</td>\n",
       "      <td>No Access</td>\n",
       "      <td>Street/Sidewalk</td>\n",
       "      <td>11105.0</td>\n",
       "      <td>27-07 23 AVENUE</td>\n",
       "      <td>...</td>\n",
       "      <td>NaN</td>\n",
       "      <td>NaN</td>\n",
       "      <td>NaN</td>\n",
       "      <td>NaN</td>\n",
       "      <td>NaN</td>\n",
       "      <td>NaN</td>\n",
       "      <td>NaN</td>\n",
       "      <td>40.775945</td>\n",
       "      <td>-73.915094</td>\n",
       "      <td>(40.775945312321085, -73.91509393898605)</td>\n",
       "    </tr>\n",
       "    <tr>\n",
       "      <th>2</th>\n",
       "      <td>32309159</td>\n",
       "      <td>2015-12-31 23:59:29</td>\n",
       "      <td>2016-01-01 04:51:00</td>\n",
       "      <td>NYPD</td>\n",
       "      <td>New York City Police Department</td>\n",
       "      <td>Blocked Driveway</td>\n",
       "      <td>No Access</td>\n",
       "      <td>Street/Sidewalk</td>\n",
       "      <td>10458.0</td>\n",
       "      <td>2897 VALENTINE AVENUE</td>\n",
       "      <td>...</td>\n",
       "      <td>NaN</td>\n",
       "      <td>NaN</td>\n",
       "      <td>NaN</td>\n",
       "      <td>NaN</td>\n",
       "      <td>NaN</td>\n",
       "      <td>NaN</td>\n",
       "      <td>NaN</td>\n",
       "      <td>40.870325</td>\n",
       "      <td>-73.888525</td>\n",
       "      <td>(40.870324522111424, -73.88852464418646)</td>\n",
       "    </tr>\n",
       "  </tbody>\n",
       "</table>\n",
       "<p>3 rows × 53 columns</p>\n",
       "</div>"
      ],
      "text/plain": [
       "   Unique Key        Created Date         Closed Date Agency  \\\n",
       "0    32310363 2015-12-31 23:59:45 2016-01-01 00:55:00   NYPD   \n",
       "1    32309934 2015-12-31 23:59:44 2016-01-01 01:26:00   NYPD   \n",
       "2    32309159 2015-12-31 23:59:29 2016-01-01 04:51:00   NYPD   \n",
       "\n",
       "                       Agency Name           Complaint Type        Descriptor  \\\n",
       "0  New York City Police Department  Noise - Street/Sidewalk  Loud Music/Party   \n",
       "1  New York City Police Department         Blocked Driveway         No Access   \n",
       "2  New York City Police Department         Blocked Driveway         No Access   \n",
       "\n",
       "     Location Type  Incident Zip       Incident Address  ...  \\\n",
       "0  Street/Sidewalk       10034.0    71 VERMILYEA AVENUE  ...   \n",
       "1  Street/Sidewalk       11105.0        27-07 23 AVENUE  ...   \n",
       "2  Street/Sidewalk       10458.0  2897 VALENTINE AVENUE  ...   \n",
       "\n",
       "  Bridge Highway Name Bridge Highway Direction Road Ramp  \\\n",
       "0                 NaN                      NaN       NaN   \n",
       "1                 NaN                      NaN       NaN   \n",
       "2                 NaN                      NaN       NaN   \n",
       "\n",
       "  Bridge Highway Segment Garage Lot Name Ferry Direction Ferry Terminal Name  \\\n",
       "0                    NaN             NaN             NaN                 NaN   \n",
       "1                    NaN             NaN             NaN                 NaN   \n",
       "2                    NaN             NaN             NaN                 NaN   \n",
       "\n",
       "    Latitude  Longitude                                  Location  \n",
       "0  40.865682 -73.923501   (40.86568153633767, -73.92350095571744)  \n",
       "1  40.775945 -73.915094  (40.775945312321085, -73.91509393898605)  \n",
       "2  40.870325 -73.888525  (40.870324522111424, -73.88852464418646)  \n",
       "\n",
       "[3 rows x 53 columns]"
      ]
     },
     "execution_count": 3,
     "metadata": {},
     "output_type": "execute_result"
    }
   ],
   "source": [
    "nycsr = pd.read_csv('Project 01 - Customer Service Requests Analysis/311_Service_Requests_from_2010_to_Present.csv',parse_dates=['Created Date','Closed Date','Due Date','Resolution Action Updated Date'])\n",
    "nycsr.head(3)"
   ]
  },
  {
   "cell_type": "code",
   "execution_count": 4,
   "metadata": {
    "colab": {
     "base_uri": "https://localhost:8080/"
    },
    "colab_type": "code",
    "id": "l--UmrwCETbj",
    "outputId": "7c110506-d826-4c3b-b34b-b8efdf805c92"
   },
   "outputs": [
    {
     "data": {
      "text/plain": [
       "NYPD    300698\n",
       "Name: Agency, dtype: int64"
      ]
     },
     "execution_count": 4,
     "metadata": {},
     "output_type": "execute_result"
    }
   ],
   "source": [
    "nycsr['Agency'].value_counts()"
   ]
  },
  {
   "cell_type": "code",
   "execution_count": 5,
   "metadata": {
    "colab": {
     "base_uri": "https://localhost:8080/"
    },
    "colab_type": "code",
    "id": "iteZhIrClTZr",
    "outputId": "a83b51a1-3489-4b11-ee04-6dad49b6edf7"
   },
   "outputs": [
    {
     "data": {
      "text/html": [
       "<div>\n",
       "<style scoped>\n",
       "    .dataframe tbody tr th:only-of-type {\n",
       "        vertical-align: middle;\n",
       "    }\n",
       "\n",
       "    .dataframe tbody tr th {\n",
       "        vertical-align: top;\n",
       "    }\n",
       "\n",
       "    .dataframe thead th {\n",
       "        text-align: right;\n",
       "    }\n",
       "</style>\n",
       "<table border=\"1\" class=\"dataframe\">\n",
       "  <thead>\n",
       "    <tr style=\"text-align: right;\">\n",
       "      <th></th>\n",
       "      <th>Created Date</th>\n",
       "      <th>Closed Date</th>\n",
       "      <th>Agency Name</th>\n",
       "      <th>Complaint Type</th>\n",
       "      <th>Descriptor</th>\n",
       "      <th>City</th>\n",
       "      <th>Status</th>\n",
       "      <th>Borough</th>\n",
       "      <th>Location Type</th>\n",
       "      <th>Location</th>\n",
       "      <th>Latitude</th>\n",
       "      <th>Longitude</th>\n",
       "    </tr>\n",
       "  </thead>\n",
       "  <tbody>\n",
       "    <tr>\n",
       "      <th>0</th>\n",
       "      <td>2015-12-31 23:59:45</td>\n",
       "      <td>2016-01-01 00:55:00</td>\n",
       "      <td>New York City Police Department</td>\n",
       "      <td>Noise - Street/Sidewalk</td>\n",
       "      <td>Loud Music/Party</td>\n",
       "      <td>NEW YORK</td>\n",
       "      <td>Closed</td>\n",
       "      <td>MANHATTAN</td>\n",
       "      <td>Street/Sidewalk</td>\n",
       "      <td>(40.86568153633767, -73.92350095571744)</td>\n",
       "      <td>40.865682</td>\n",
       "      <td>-73.923501</td>\n",
       "    </tr>\n",
       "    <tr>\n",
       "      <th>1</th>\n",
       "      <td>2015-12-31 23:59:44</td>\n",
       "      <td>2016-01-01 01:26:00</td>\n",
       "      <td>New York City Police Department</td>\n",
       "      <td>Blocked Driveway</td>\n",
       "      <td>No Access</td>\n",
       "      <td>ASTORIA</td>\n",
       "      <td>Closed</td>\n",
       "      <td>QUEENS</td>\n",
       "      <td>Street/Sidewalk</td>\n",
       "      <td>(40.775945312321085, -73.91509393898605)</td>\n",
       "      <td>40.775945</td>\n",
       "      <td>-73.915094</td>\n",
       "    </tr>\n",
       "    <tr>\n",
       "      <th>2</th>\n",
       "      <td>2015-12-31 23:59:29</td>\n",
       "      <td>2016-01-01 04:51:00</td>\n",
       "      <td>New York City Police Department</td>\n",
       "      <td>Blocked Driveway</td>\n",
       "      <td>No Access</td>\n",
       "      <td>BRONX</td>\n",
       "      <td>Closed</td>\n",
       "      <td>BRONX</td>\n",
       "      <td>Street/Sidewalk</td>\n",
       "      <td>(40.870324522111424, -73.88852464418646)</td>\n",
       "      <td>40.870325</td>\n",
       "      <td>-73.888525</td>\n",
       "    </tr>\n",
       "  </tbody>\n",
       "</table>\n",
       "</div>"
      ],
      "text/plain": [
       "         Created Date         Closed Date                      Agency Name  \\\n",
       "0 2015-12-31 23:59:45 2016-01-01 00:55:00  New York City Police Department   \n",
       "1 2015-12-31 23:59:44 2016-01-01 01:26:00  New York City Police Department   \n",
       "2 2015-12-31 23:59:29 2016-01-01 04:51:00  New York City Police Department   \n",
       "\n",
       "            Complaint Type        Descriptor      City  Status    Borough  \\\n",
       "0  Noise - Street/Sidewalk  Loud Music/Party  NEW YORK  Closed  MANHATTAN   \n",
       "1         Blocked Driveway         No Access   ASTORIA  Closed     QUEENS   \n",
       "2         Blocked Driveway         No Access     BRONX  Closed      BRONX   \n",
       "\n",
       "     Location Type                                  Location   Latitude  \\\n",
       "0  Street/Sidewalk   (40.86568153633767, -73.92350095571744)  40.865682   \n",
       "1  Street/Sidewalk  (40.775945312321085, -73.91509393898605)  40.775945   \n",
       "2  Street/Sidewalk  (40.870324522111424, -73.88852464418646)  40.870325   \n",
       "\n",
       "   Longitude  \n",
       "0 -73.923501  \n",
       "1 -73.915094  \n",
       "2 -73.888525  "
      ]
     },
     "execution_count": 5,
     "metadata": {},
     "output_type": "execute_result"
    }
   ],
   "source": [
    "nycsr = nycsr[['Created Date','Closed Date','Agency Name','Complaint Type','Descriptor','City','Status','Borough','Location Type','Location','Latitude','Longitude']]\n",
    "nycsr.head(3)"
   ]
  },
  {
   "cell_type": "code",
   "execution_count": 6,
   "metadata": {
    "colab": {
     "base_uri": "https://localhost:8080/"
    },
    "colab_type": "code",
    "id": "co5cswnlLvrE",
    "outputId": "60f5f7c8-7cea-4bff-d58e-592e848725cc"
   },
   "outputs": [
    {
     "data": {
      "text/plain": [
       "(300698, 12)"
      ]
     },
     "execution_count": 6,
     "metadata": {},
     "output_type": "execute_result"
    }
   ],
   "source": [
    "nycsr.shape"
   ]
  },
  {
   "cell_type": "code",
   "execution_count": 7,
   "metadata": {
    "colab": {
     "base_uri": "https://localhost:8080/"
    },
    "colab_type": "code",
    "id": "N8dWfJdZJOAw",
    "outputId": "e49822c8-2039-4f52-f740-d797db90ed54"
   },
   "outputs": [
    {
     "data": {
      "text/plain": [
       "Created Date      datetime64[ns]\n",
       "Closed Date       datetime64[ns]\n",
       "Agency Name               object\n",
       "Complaint Type            object\n",
       "Descriptor                object\n",
       "City                      object\n",
       "Status                    object\n",
       "Borough                   object\n",
       "Location Type             object\n",
       "Location                  object\n",
       "Latitude                 float64\n",
       "Longitude                float64\n",
       "dtype: object"
      ]
     },
     "execution_count": 7,
     "metadata": {},
     "output_type": "execute_result"
    }
   ],
   "source": [
    "nycsr.dtypes"
   ]
  },
  {
   "cell_type": "code",
   "execution_count": 8,
   "metadata": {
    "colab": {
     "base_uri": "https://localhost:8080/"
    },
    "colab_type": "code",
    "id": "Q-kVGWBeIwrb",
    "outputId": "c9a5bdd3-18b3-40d0-f439-9881d3d39aee"
   },
   "outputs": [
    {
     "data": {
      "text/plain": [
       "Created Date         0\n",
       "Closed Date       2164\n",
       "Agency Name          0\n",
       "Complaint Type       0\n",
       "Descriptor        5914\n",
       "City              2614\n",
       "Status               0\n",
       "Borough              0\n",
       "Location Type      131\n",
       "Location          3540\n",
       "Latitude          3540\n",
       "Longitude         3540\n",
       "dtype: int64"
      ]
     },
     "execution_count": 8,
     "metadata": {},
     "output_type": "execute_result"
    }
   ],
   "source": [
    "nycsr.isnull().sum()"
   ]
  },
  {
   "cell_type": "code",
   "execution_count": 9,
   "metadata": {
    "colab": {},
    "colab_type": "code",
    "id": "cW6hlfmj1T5A"
   },
   "outputs": [],
   "source": [
    "nycsr['Descriptor'] = nycsr['Descriptor'].fillna('Unspecified')"
   ]
  },
  {
   "cell_type": "code",
   "execution_count": 10,
   "metadata": {
    "colab": {
     "base_uri": "https://localhost:8080/"
    },
    "colab_type": "code",
    "id": "l19bqsi7cvVY",
    "outputId": "26d67760-c25e-4305-c93f-f692f19a4f86"
   },
   "outputs": [
    {
     "data": {
      "text/plain": [
       "(296939, 12)"
      ]
     },
     "execution_count": 10,
     "metadata": {},
     "output_type": "execute_result"
    }
   ],
   "source": [
    "# since there are around 4500 null values in the dataset, in the interest of accuracy, it would be better to delete observations with these null values, which would be roughly 1% of the total dataset of 364558 observations\n",
    "nycsr = nycsr.dropna()\n",
    "nycsr.shape"
   ]
  },
  {
   "cell_type": "code",
   "execution_count": 11,
   "metadata": {
    "colab": {
     "base_uri": "https://localhost:8080/"
    },
    "colab_type": "code",
    "id": "5oP0EPo911KJ",
    "outputId": "b750d90c-68a5-49f6-a8c4-cfbb4931c099"
   },
   "outputs": [
    {
     "data": {
      "text/plain": [
       "Created Date      0\n",
       "Closed Date       0\n",
       "Agency Name       0\n",
       "Complaint Type    0\n",
       "Descriptor        0\n",
       "City              0\n",
       "Status            0\n",
       "Borough           0\n",
       "Location Type     0\n",
       "Location          0\n",
       "Latitude          0\n",
       "Longitude         0\n",
       "dtype: int64"
      ]
     },
     "execution_count": 11,
     "metadata": {},
     "output_type": "execute_result"
    }
   ],
   "source": [
    "nycsr.isnull().sum()"
   ]
  },
  {
   "cell_type": "code",
   "execution_count": 12,
   "metadata": {
    "colab": {
     "base_uri": "https://localhost:8080/"
    },
    "colab_type": "code",
    "id": "NRopV6ekZBlQ",
    "outputId": "cc77df9d-7e08-478f-8c7c-50a97b26edf9"
   },
   "outputs": [
    {
     "data": {
      "text/plain": [
       "array(['Noise - Street/Sidewalk', 'Blocked Driveway', 'Illegal Parking',\n",
       "       'Derelict Vehicle', 'Noise - Commercial',\n",
       "       'Noise - House of Worship', 'Posting Advertisement',\n",
       "       'Noise - Vehicle', 'Animal Abuse', 'Vending', 'Traffic',\n",
       "       'Drinking', 'Bike/Roller/Skate Chronic', 'Panhandling',\n",
       "       'Noise - Park', 'Homeless Encampment', 'Urinating in Public',\n",
       "       'Graffiti', 'Disorderly Youth', 'Illegal Fireworks', 'Squeegee'],\n",
       "      dtype=object)"
      ]
     },
     "execution_count": 12,
     "metadata": {},
     "output_type": "execute_result"
    }
   ],
   "source": [
    "nycsr['Complaint Type'].unique()"
   ]
  },
  {
   "cell_type": "code",
   "execution_count": 13,
   "metadata": {
    "colab": {
     "base_uri": "https://localhost:8080/"
    },
    "colab_type": "code",
    "id": "GFqtZ3riZPcN",
    "outputId": "d5c16522-1e5c-4280-b033-d71596f0329c"
   },
   "outputs": [
    {
     "data": {
      "text/plain": [
       "array(['Street/Sidewalk', 'Club/Bar/Restaurant', 'Store/Commercial',\n",
       "       'House of Worship', 'Residential Building/House',\n",
       "       'Residential Building', 'Park/Playground', 'Vacant Lot',\n",
       "       'House and Store', 'Highway', 'Commercial', 'Roadway Tunnel',\n",
       "       'Subway Station', 'Parking Lot', 'Bridge'], dtype=object)"
      ]
     },
     "execution_count": 13,
     "metadata": {},
     "output_type": "execute_result"
    }
   ],
   "source": [
    "nycsr['Location Type'].unique()"
   ]
  },
  {
   "cell_type": "code",
   "execution_count": 14,
   "metadata": {
    "colab": {
     "base_uri": "https://localhost:8080/"
    },
    "colab_type": "code",
    "id": "3Xu-w9N4ZV13",
    "outputId": "7ec94d1a-9bc4-45f9-c3c3-356204fe755b"
   },
   "outputs": [
    {
     "data": {
      "text/plain": [
       "array(['NEW YORK', 'ASTORIA', 'BRONX', 'ELMHURST', 'BROOKLYN',\n",
       "       'KEW GARDENS', 'JACKSON HEIGHTS', 'MIDDLE VILLAGE', 'REGO PARK',\n",
       "       'SAINT ALBANS', 'JAMAICA', 'SOUTH RICHMOND HILL', 'RIDGEWOOD',\n",
       "       'HOWARD BEACH', 'FOREST HILLS', 'STATEN ISLAND', 'OZONE PARK',\n",
       "       'RICHMOND HILL', 'WOODHAVEN', 'FLUSHING', 'CORONA',\n",
       "       'QUEENS VILLAGE', 'OAKLAND GARDENS', 'HOLLIS', 'MASPETH',\n",
       "       'EAST ELMHURST', 'SOUTH OZONE PARK', 'WOODSIDE', 'FRESH MEADOWS',\n",
       "       'LONG ISLAND CITY', 'ROCKAWAY PARK', 'SPRINGFIELD GARDENS',\n",
       "       'COLLEGE POINT', 'BAYSIDE', 'GLEN OAKS', 'FAR ROCKAWAY',\n",
       "       'BELLEROSE', 'LITTLE NECK', 'CAMBRIA HEIGHTS', 'ROSEDALE',\n",
       "       'SUNNYSIDE', 'WHITESTONE', 'ARVERNE', 'FLORAL PARK',\n",
       "       'NEW HYDE PARK', 'CENTRAL PARK', 'BREEZY POINT', 'QUEENS',\n",
       "       'Astoria', 'Long Island City', 'Woodside', 'East Elmhurst',\n",
       "       'Howard Beach'], dtype=object)"
      ]
     },
     "execution_count": 14,
     "metadata": {},
     "output_type": "execute_result"
    }
   ],
   "source": [
    "nycsr['City'].unique()"
   ]
  },
  {
   "cell_type": "code",
   "execution_count": 15,
   "metadata": {
    "colab": {
     "base_uri": "https://localhost:8080/"
    },
    "colab_type": "code",
    "id": "5-EtAhNseXKh",
    "outputId": "2185bb56-a93f-4a71-db09-6954b3a68e64"
   },
   "outputs": [
    {
     "data": {
      "text/html": [
       "<div>\n",
       "<style scoped>\n",
       "    .dataframe tbody tr th:only-of-type {\n",
       "        vertical-align: middle;\n",
       "    }\n",
       "\n",
       "    .dataframe tbody tr th {\n",
       "        vertical-align: top;\n",
       "    }\n",
       "\n",
       "    .dataframe thead th {\n",
       "        text-align: right;\n",
       "    }\n",
       "</style>\n",
       "<table border=\"1\" class=\"dataframe\">\n",
       "  <thead>\n",
       "    <tr style=\"text-align: right;\">\n",
       "      <th></th>\n",
       "      <th>Latitude</th>\n",
       "      <th>Longitude</th>\n",
       "    </tr>\n",
       "  </thead>\n",
       "  <tbody>\n",
       "    <tr>\n",
       "      <th>count</th>\n",
       "      <td>296939.000000</td>\n",
       "      <td>296939.000000</td>\n",
       "    </tr>\n",
       "    <tr>\n",
       "      <th>mean</th>\n",
       "      <td>40.725887</td>\n",
       "      <td>-73.925623</td>\n",
       "    </tr>\n",
       "    <tr>\n",
       "      <th>std</th>\n",
       "      <td>0.082018</td>\n",
       "      <td>0.078444</td>\n",
       "    </tr>\n",
       "    <tr>\n",
       "      <th>min</th>\n",
       "      <td>40.499135</td>\n",
       "      <td>-74.254937</td>\n",
       "    </tr>\n",
       "    <tr>\n",
       "      <th>25%</th>\n",
       "      <td>40.669789</td>\n",
       "      <td>-73.972114</td>\n",
       "    </tr>\n",
       "    <tr>\n",
       "      <th>50%</th>\n",
       "      <td>40.718663</td>\n",
       "      <td>-73.931780</td>\n",
       "    </tr>\n",
       "    <tr>\n",
       "      <th>75%</th>\n",
       "      <td>40.781875</td>\n",
       "      <td>-73.876805</td>\n",
       "    </tr>\n",
       "    <tr>\n",
       "      <th>max</th>\n",
       "      <td>40.912869</td>\n",
       "      <td>-73.700760</td>\n",
       "    </tr>\n",
       "  </tbody>\n",
       "</table>\n",
       "</div>"
      ],
      "text/plain": [
       "            Latitude      Longitude\n",
       "count  296939.000000  296939.000000\n",
       "mean       40.725887     -73.925623\n",
       "std         0.082018       0.078444\n",
       "min        40.499135     -74.254937\n",
       "25%        40.669789     -73.972114\n",
       "50%        40.718663     -73.931780\n",
       "75%        40.781875     -73.876805\n",
       "max        40.912869     -73.700760"
      ]
     },
     "execution_count": 15,
     "metadata": {},
     "output_type": "execute_result"
    }
   ],
   "source": [
    "nycsr.describe()"
   ]
  },
  {
   "cell_type": "markdown",
   "metadata": {
    "colab_type": "text",
    "id": "ZxfCsJTGuoUb"
   },
   "source": [
    "## Task 2 - Read or convert the columns ‘Created Date’ and Closed Date’ to datetime datatype and create a new column ‘Request_Closing_Time’ as the time elapsed between request creation and request closing. (Hint: Explore the package/module datetime)"
   ]
  },
  {
   "cell_type": "code",
   "execution_count": 16,
   "metadata": {
    "colab": {
     "base_uri": "https://localhost:8080/"
    },
    "colab_type": "code",
    "id": "aFMONz0XMGWA",
    "outputId": "73f1ddd7-889a-49ab-a7b2-b2df11b96356"
   },
   "outputs": [
    {
     "data": {
      "text/plain": [
       "2015-11-08 07:34:00    24\n",
       "2015-10-11 07:03:00    22\n",
       "2015-12-08 07:44:00    18\n",
       "2015-05-10 07:01:00    18\n",
       "2015-12-07 23:17:00    17\n",
       "                       ..\n",
       "2015-09-27 22:00:47     1\n",
       "2015-12-15 00:33:44     1\n",
       "2015-04-11 02:36:00     1\n",
       "2015-09-21 17:28:16     1\n",
       "2015-05-06 16:47:00     1\n",
       "Name: Closed Date, Length: 236021, dtype: int64"
      ]
     },
     "execution_count": 16,
     "metadata": {},
     "output_type": "execute_result"
    }
   ],
   "source": [
    "nycsr['Closed Date'].value_counts()"
   ]
  },
  {
   "cell_type": "code",
   "execution_count": 17,
   "metadata": {
    "colab": {
     "base_uri": "https://localhost:8080/"
    },
    "colab_type": "code",
    "id": "8QzVCM8lPLvl",
    "outputId": "d917eba4-080e-43b2-95f9-19e9ea9f3a63"
   },
   "outputs": [
    {
     "data": {
      "text/plain": [
       "Timestamp('2016-01-03 16:22:00')"
      ]
     },
     "execution_count": 17,
     "metadata": {},
     "output_type": "execute_result"
    }
   ],
   "source": [
    "max(nycsr['Closed Date'])"
   ]
  },
  {
   "cell_type": "code",
   "execution_count": 18,
   "metadata": {
    "colab": {
     "base_uri": "https://localhost:8080/"
    },
    "colab_type": "code",
    "id": "rzRE4MpaJBBz",
    "outputId": "aa509eb5-7862-461a-b404-20e297b93dfd"
   },
   "outputs": [
    {
     "data": {
      "text/plain": [
       "2015-11-08 07:34:00    24\n",
       "2015-10-11 07:03:00    22\n",
       "2015-12-08 07:44:00    18\n",
       "2015-05-10 07:01:00    18\n",
       "2015-12-07 23:17:00    17\n",
       "                       ..\n",
       "2015-09-27 22:00:47     1\n",
       "2015-12-15 00:33:44     1\n",
       "2015-04-11 02:36:00     1\n",
       "2015-09-21 17:28:16     1\n",
       "2015-05-06 16:47:00     1\n",
       "Name: Closed Date, Length: 236021, dtype: int64"
      ]
     },
     "execution_count": 18,
     "metadata": {},
     "output_type": "execute_result"
    }
   ],
   "source": [
    "#since there are a lot of closed date with null values, it would be better to replace the null values with the last closed date or max of closed date, which, coincidentally has the highest frequency\n",
    "nycsr['Closed Date'] = nycsr['Closed Date'].fillna(max(nycsr['Closed Date']))\n",
    "nycsr['Closed Date'].value_counts()"
   ]
  },
  {
   "cell_type": "code",
   "execution_count": 19,
   "metadata": {
    "colab": {
     "base_uri": "https://localhost:8080/"
    },
    "colab_type": "code",
    "id": "QzaRplXqRWE6",
    "outputId": "c18ed553-bd41-463d-8b7f-e6b9c422430d"
   },
   "outputs": [
    {
     "data": {
      "text/plain": [
       "0   0 days 00:55:15\n",
       "1   0 days 01:26:16\n",
       "2   0 days 04:51:31\n",
       "3   0 days 07:45:14\n",
       "4   0 days 03:27:02\n",
       "Name: Request_Closing_Time, dtype: timedelta64[ns]"
      ]
     },
     "execution_count": 19,
     "metadata": {},
     "output_type": "execute_result"
    }
   ],
   "source": [
    "nycsr['Request_Closing_Time'] = nycsr['Closed Date']-nycsr['Created Date']\n",
    "nycsr['Request_Closing_Time'].head()"
   ]
  },
  {
   "cell_type": "code",
   "execution_count": 20,
   "metadata": {
    "colab": {
     "base_uri": "https://localhost:8080/"
    },
    "colab_type": "code",
    "id": "olHSs4Wneh2b",
    "outputId": "0013318b-8cb3-4564-e3e3-78589f7f56a3"
   },
   "outputs": [
    {
     "data": {
      "text/plain": [
       "0    23\n",
       "1    23\n",
       "2    23\n",
       "3    23\n",
       "4    23\n",
       "Name: Created_Time, dtype: int64"
      ]
     },
     "execution_count": 20,
     "metadata": {},
     "output_type": "execute_result"
    }
   ],
   "source": [
    "nycsr['Created_Time'] = nycsr['Created Date'].dt.hour\n",
    "nycsr['Created_Time'].head()"
   ]
  },
  {
   "cell_type": "code",
   "execution_count": 21,
   "metadata": {
    "colab": {
     "base_uri": "https://localhost:8080/"
    },
    "colab_type": "code",
    "id": "_i1y5v8NRxMR",
    "outputId": "ad015055-a434-4b5a-cdbf-3dde8190ce1d"
   },
   "outputs": [
    {
     "data": {
      "text/plain": [
       "Loud Music/Party                  60445\n",
       "No Access                         56725\n",
       "Posted Parking Sign Violation     22103\n",
       "Loud Talking                      21254\n",
       "Partial Access                    19951\n",
       "With License Plate                17506\n",
       "Blocked Hydrant                   15837\n",
       "Commercial Overnight Parking      11908\n",
       "Car/Truck Music                   11114\n",
       "Blocked Sidewalk                  10930\n",
       "Unspecified                        5830\n",
       "Double Parked Blocking Traffic     5558\n",
       "Double Parked Blocking Vehicle     4147\n",
       "Engine Idling                      4134\n",
       "Banging/Pounding                   4090\n",
       "Neglected                          3771\n",
       "Car/Truck Horn                     3477\n",
       "Congestion/Gridlock                2737\n",
       "In Prohibited Area                 2017\n",
       "Other (complaint details)          1961\n",
       "Unlicensed                         1756\n",
       "Overnight Commercial Storage       1746\n",
       "Unauthorized Bus Layover           1333\n",
       "Truck Route Violation              1010\n",
       "In Public                           923\n",
       "Tortured                            849\n",
       "Vehicle                             587\n",
       "Chained                             534\n",
       "Detached Trailer                    459\n",
       "No Shelter                          381\n",
       "Chronic Stoplight Violation         280\n",
       "Underage - Licensed Est             270\n",
       "Chronic Speeding                    266\n",
       "In Car                              248\n",
       "Playing in Unsuitable Place         245\n",
       "Drag Racing                         174\n",
       "Loud Television                      93\n",
       "Police Report Requested              90\n",
       "After Hours - Licensed Est           77\n",
       "Building                             60\n",
       "Nuisance/Truant                      40\n",
       "Police Report Not Requested          23\n",
       "Name: Descriptor, dtype: int64"
      ]
     },
     "execution_count": 21,
     "metadata": {},
     "output_type": "execute_result"
    }
   ],
   "source": [
    "nycsr['Descriptor'].value_counts()"
   ]
  },
  {
   "cell_type": "code",
   "execution_count": 22,
   "metadata": {
    "colab": {
     "base_uri": "https://localhost:8080/"
    },
    "colab_type": "code",
    "id": "5NCCHW8_U8Vm",
    "outputId": "6e03cd1f-cf5b-4c6e-c03f-63deb752411b"
   },
   "outputs": [
    {
     "data": {
      "text/plain": [
       "0"
      ]
     },
     "execution_count": 22,
     "metadata": {},
     "output_type": "execute_result"
    }
   ],
   "source": [
    "#since there are lot of null values in descriptors variable, it would make sense to replace it with the complaint having highest frequency 'No Access'\n",
    "nycsr['Descriptor'] = nycsr['Descriptor'].fillna('No Access')\n",
    "nycsr['Descriptor'].isnull().sum()"
   ]
  },
  {
   "cell_type": "code",
   "execution_count": 23,
   "metadata": {
    "colab": {
     "base_uri": "https://localhost:8080/"
    },
    "colab_type": "code",
    "id": "HW04AgYFU7ne",
    "outputId": "6f6f7075-872b-4291-bcc2-d24f7ab34087"
   },
   "outputs": [
    {
     "data": {
      "text/plain": [
       "Street/Sidewalk               246265\n",
       "Store/Commercial               20116\n",
       "Club/Bar/Restaurant            17194\n",
       "Residential Building/House      6943\n",
       "Park/Playground                 4645\n",
       "House of Worship                 920\n",
       "Residential Building             226\n",
       "Highway                          211\n",
       "Parking Lot                      116\n",
       "House and Store                   93\n",
       "Vacant Lot                        77\n",
       "Commercial                        62\n",
       "Roadway Tunnel                    35\n",
       "Subway Station                    34\n",
       "Bridge                             2\n",
       "Name: Location Type, dtype: int64"
      ]
     },
     "execution_count": 23,
     "metadata": {},
     "output_type": "execute_result"
    }
   ],
   "source": [
    "nycsr['Location Type'].value_counts()"
   ]
  },
  {
   "cell_type": "markdown",
   "metadata": {
    "colab_type": "text",
    "id": "ud12gmSGucuW"
   },
   "source": [
    "## Task 3 - Provide major insights/patterns that you can offer in a visual format (graphs or tables); at least 4 major conclusions that you can come up with after generic data mining."
   ]
  },
  {
   "cell_type": "code",
   "execution_count": 24,
   "metadata": {
    "colab": {
     "base_uri": "https://localhost:8080/"
    },
    "colab_type": "code",
    "id": "iHaBR3-VWCLv",
    "outputId": "4409d106-a230-4f74-ff72-91049b2de05c"
   },
   "outputs": [
    {
     "data": {
      "text/plain": [
       "<AxesSubplot:title={'center':'Most Common Complaints'}>"
      ]
     },
     "execution_count": 24,
     "metadata": {},
     "output_type": "execute_result"
    },
    {
     "data": {
      "image/png": "[encoded data removed]",
      "text/plain": [
       "<Figure size 720x432 with 1 Axes>"
      ]
     },
     "metadata": {
      "needs_background": "light"
     },
     "output_type": "display_data"
    }
   ],
   "source": [
    "# What are different type of Complaints? Which is most/least frequent?\n",
    "(nycsr['Complaint Type'].value_counts()).plot(kind='bar',figsize=(10,6),title = 'Most Common Complaints')"
   ]
  },
  {
   "cell_type": "code",
   "execution_count": 25,
   "metadata": {
    "colab": {
     "base_uri": "https://localhost:8080/"
    },
    "colab_type": "code",
    "id": "0RiGKtq1ZSg3",
    "outputId": "551983b6-9943-4241-b0c1-7fbd8ac615b7"
   },
   "outputs": [
    {
     "data": {
      "text/plain": [
       "<AxesSubplot:title={'center':'Complaints Distribution Across Boroughs'}, ylabel='Borough'>"
      ]
     },
     "execution_count": 25,
     "metadata": {},
     "output_type": "execute_result"
    },
    {
     "data": {
      "image/png": "[encoded data removed]",
      "text/plain": [
       "<Figure size 720x432 with 1 Axes>"
      ]
     },
     "metadata": {},
     "output_type": "display_data"
    }
   ],
   "source": [
    "# From which borough most complaints come from?\n",
    "(nycsr['Borough'].value_counts()).plot(kind='pie',autopct='%1.1f%%',figsize=(10,6),title='Complaints Distribution Across Boroughs')"
   ]
  },
  {
   "cell_type": "code",
   "execution_count": 26,
   "metadata": {
    "colab": {
     "base_uri": "https://localhost:8080/"
    },
    "colab_type": "code",
    "id": "5tDofTuDJ6Da",
    "outputId": "4f2b8415-ba93-49b2-9deb-446afd9e47c5"
   },
   "outputs": [
    {
     "data": {
      "text/plain": [
       "(array([     0.,      0.,      0.,      0.,      0., 296939.,      0.,\n",
       "             0.,      0.,      0.]),\n",
       " array([-0.5, -0.4, -0.3, -0.2, -0.1,  0. ,  0.1,  0.2,  0.3,  0.4,  0.5]),\n",
       " <BarContainer object of 10 artists>)"
      ]
     },
     "execution_count": 26,
     "metadata": {},
     "output_type": "execute_result"
    },
    {
     "data": {
      "image/png": "[encoded data removed]",
      "text/plain": [
       "<Figure size 432x288 with 1 Axes>"
      ]
     },
     "metadata": {
      "needs_background": "light"
     },
     "output_type": "display_data"
    }
   ],
   "source": [
    "# Which agencies are more efficient in solving complaints?\n",
    "nycsr['Agency Name'] = nycsr['Agency Name'].replace('NYPD','New York City Police Department')\n",
    "plt.hist(nycsr['Agency Name'])"
   ]
  },
  {
   "cell_type": "code",
   "execution_count": 27,
   "metadata": {
    "colab": {
     "base_uri": "https://localhost:8080/"
    },
    "colab_type": "code",
    "id": "yFYulIWKcTNz",
    "outputId": "eb8f3fa4-5927-4238-988e-b93a1ac61756"
   },
   "outputs": [
    {
     "data": {
      "text/plain": [
       "<AxesSubplot:title={'center':'Volume of complaints during the day'}>"
      ]
     },
     "execution_count": 27,
     "metadata": {},
     "output_type": "execute_result"
    },
    {
     "data": {
      "image/png": "[encoded data removed]",
      "text/plain": [
       "<Figure size 720x432 with 1 Axes>"
      ]
     },
     "metadata": {
      "needs_background": "light"
     },
     "output_type": "display_data"
    }
   ],
   "source": [
    "# Which complaints peaks at what time of day?\n",
    "nycsr['Created_Time'].value_counts().plot(kind='bar',figsize=(10,6),title='Volume of complaints during the day')"
   ]
  },
  {
   "cell_type": "code",
   "execution_count": 28,
   "metadata": {
    "colab": {
     "base_uri": "https://localhost:8080/"
    },
    "colab_type": "code",
    "id": "5GGNuPeG6doB",
    "outputId": "e46bafe0-2749-449a-a874-6fd07f237a9e"
   },
   "outputs": [
    {
     "data": {
      "text/plain": [
       "<AxesSubplot:title={'center':'Volume of Complaints Against Type'}>"
      ]
     },
     "execution_count": 28,
     "metadata": {},
     "output_type": "execute_result"
    },
    {
     "data": {
      "image/png": "[encoded data removed]",
      "text/plain": [
       "<Figure size 720x432 with 1 Axes>"
      ]
     },
     "metadata": {
      "needs_background": "light"
     },
     "output_type": "display_data"
    }
   ],
   "source": [
    "# From which type of location we get most number of complaints?\n",
    "nycsr['Complaint Type'].value_counts().plot(kind='bar',figsize=(10,6),title='Volume of Complaints Against Type')"
   ]
  },
  {
   "cell_type": "code",
   "execution_count": 29,
   "metadata": {
    "colab": {
     "base_uri": "https://localhost:8080/"
    },
    "colab_type": "code",
    "id": "LzN2RItrJp8S",
    "outputId": "e4d90c0b-831d-452b-813b-315f00879bfc"
   },
   "outputs": [
    {
     "name": "stderr",
     "output_type": "stream",
     "text": [
      "c:\\users\\jude\\appdata\\local\\programs\\python\\python39\\lib\\site-packages\\pandas\\plotting\\_matplotlib\\tools.py:400: MatplotlibDeprecationWarning: \n",
      "The is_first_col function was deprecated in Matplotlib 3.4 and will be removed two minor releases later. Use ax.get_subplotspec().is_first_col() instead.\n",
      "  if ax.is_first_col():\n"
     ]
    },
    {
     "data": {
      "text/plain": [
       "(-74.2826460631096, -73.6730515268904, 40.478447910999996, 40.933555509)"
      ]
     },
     "execution_count": 29,
     "metadata": {},
     "output_type": "execute_result"
    },
    {
     "data": {
      "image/png": "[encoded data removed]",
      "text/plain": [
       "<Figure size 720x432 with 2 Axes>"
      ]
     },
     "metadata": {
      "needs_background": "light"
     },
     "output_type": "display_data"
    }
   ],
   "source": [
    "nycsr.plot(kind='hexbin',x='Longitude',y='Latitude',gridsize=40,colormap='jet',mincnt=1,title='Complaints concentration across Brooklyn',figsize=(10,6)).axis('equal')"
   ]
  },
  {
   "cell_type": "markdown",
   "metadata": {
    "colab_type": "text",
    "id": "S8TD3MO_uRb0"
   },
   "source": [
    "## Task 4 - Order the complaint types based on the average ‘Request_Closing_Time’, grouping them for different locations."
   ]
  },
  {
   "cell_type": "code",
   "execution_count": 30,
   "metadata": {
    "colab": {
     "base_uri": "https://localhost:8080/",
     "height": 119
    },
    "colab_type": "code",
    "id": "xtRjeZbgqfww",
    "outputId": "2ba9d178-c562-4485-c468-7516d90e83ad"
   },
   "outputs": [
    {
     "data": {
      "text/plain": [
       "0     55.250000\n",
       "1     86.266667\n",
       "2    291.516667\n",
       "3    465.233333\n",
       "4    207.033333\n",
       "Name: Request_Closing_Time_hrs, dtype: float64"
      ]
     },
     "execution_count": 30,
     "metadata": {},
     "output_type": "execute_result"
    }
   ],
   "source": [
    "nycsr['Request_Closing_Time_secs'] = nycsr['Request_Closing_Time'].dt.total_seconds()\n",
    "nycsr['Request_Closing_Time_hrs'] = nycsr['Request_Closing_Time_secs']/60#*(2.77778e-13)\n",
    "nycsr['Request_Closing_Time_hrs'].head()"
   ]
  },
  {
   "cell_type": "code",
   "execution_count": 31,
   "metadata": {
    "colab": {
     "base_uri": "https://localhost:8080/",
     "height": 419
    },
    "colab_type": "code",
    "id": "2og87G0o9FGh",
    "outputId": "2eec1a83-4a5d-4c2a-f1d7-023f8775b5ff"
   },
   "outputs": [
    {
     "data": {
      "text/html": [
       "<div>\n",
       "<style scoped>\n",
       "    .dataframe tbody tr th:only-of-type {\n",
       "        vertical-align: middle;\n",
       "    }\n",
       "\n",
       "    .dataframe tbody tr th {\n",
       "        vertical-align: top;\n",
       "    }\n",
       "\n",
       "    .dataframe thead th {\n",
       "        text-align: right;\n",
       "    }\n",
       "</style>\n",
       "<table border=\"1\" class=\"dataframe\">\n",
       "  <thead>\n",
       "    <tr style=\"text-align: right;\">\n",
       "      <th></th>\n",
       "      <th>City</th>\n",
       "      <th>Complaint Type</th>\n",
       "      <th>Request_Closing_Time_hrs</th>\n",
       "    </tr>\n",
       "  </thead>\n",
       "  <tbody>\n",
       "    <tr>\n",
       "      <th>0</th>\n",
       "      <td>ARVERNE</td>\n",
       "      <td>Animal Abuse</td>\n",
       "      <td>129</td>\n",
       "    </tr>\n",
       "    <tr>\n",
       "      <th>1</th>\n",
       "      <td>ARVERNE</td>\n",
       "      <td>Blocked Driveway</td>\n",
       "      <td>151</td>\n",
       "    </tr>\n",
       "    <tr>\n",
       "      <th>2</th>\n",
       "      <td>ARVERNE</td>\n",
       "      <td>Derelict Vehicle</td>\n",
       "      <td>178</td>\n",
       "    </tr>\n",
       "    <tr>\n",
       "      <th>3</th>\n",
       "      <td>ARVERNE</td>\n",
       "      <td>Disorderly Youth</td>\n",
       "      <td>215</td>\n",
       "    </tr>\n",
       "    <tr>\n",
       "      <th>4</th>\n",
       "      <td>ARVERNE</td>\n",
       "      <td>Drinking</td>\n",
       "      <td>14</td>\n",
       "    </tr>\n",
       "    <tr>\n",
       "      <th>...</th>\n",
       "      <td>...</td>\n",
       "      <td>...</td>\n",
       "      <td>...</td>\n",
       "    </tr>\n",
       "    <tr>\n",
       "      <th>758</th>\n",
       "      <td>Woodside</td>\n",
       "      <td>Blocked Driveway</td>\n",
       "      <td>384</td>\n",
       "    </tr>\n",
       "    <tr>\n",
       "      <th>759</th>\n",
       "      <td>Woodside</td>\n",
       "      <td>Derelict Vehicle</td>\n",
       "      <td>298</td>\n",
       "    </tr>\n",
       "    <tr>\n",
       "      <th>760</th>\n",
       "      <td>Woodside</td>\n",
       "      <td>Illegal Parking</td>\n",
       "      <td>313</td>\n",
       "    </tr>\n",
       "    <tr>\n",
       "      <th>761</th>\n",
       "      <td>Woodside</td>\n",
       "      <td>Noise - Commercial</td>\n",
       "      <td>143</td>\n",
       "    </tr>\n",
       "    <tr>\n",
       "      <th>762</th>\n",
       "      <td>Woodside</td>\n",
       "      <td>Noise - Street/Sidewalk</td>\n",
       "      <td>204</td>\n",
       "    </tr>\n",
       "  </tbody>\n",
       "</table>\n",
       "<p>763 rows × 3 columns</p>\n",
       "</div>"
      ],
      "text/plain": [
       "         City           Complaint Type  Request_Closing_Time_hrs\n",
       "0     ARVERNE             Animal Abuse                       129\n",
       "1     ARVERNE         Blocked Driveway                       151\n",
       "2     ARVERNE         Derelict Vehicle                       178\n",
       "3     ARVERNE         Disorderly Youth                       215\n",
       "4     ARVERNE                 Drinking                        14\n",
       "..        ...                      ...                       ...\n",
       "758  Woodside         Blocked Driveway                       384\n",
       "759  Woodside         Derelict Vehicle                       298\n",
       "760  Woodside          Illegal Parking                       313\n",
       "761  Woodside       Noise - Commercial                       143\n",
       "762  Woodside  Noise - Street/Sidewalk                       204\n",
       "\n",
       "[763 rows x 3 columns]"
      ]
     },
     "execution_count": 31,
     "metadata": {},
     "output_type": "execute_result"
    }
   ],
   "source": [
    "nycsr_group = pd.DataFrame(nycsr.groupby(['City','Complaint Type'])['Request_Closing_Time_hrs'].mean()).reset_index()\n",
    "nycsr_group['Request_Closing_Time_hrs'] = nycsr_group['Request_Closing_Time_hrs'].astype(int)\n",
    "nycsr_group"
   ]
  },
  {
   "cell_type": "markdown",
   "metadata": {
    "colab_type": "text",
    "id": "3J9lV8jCu7iH"
   },
   "source": [
    "## Task 5 - Perform a statistical test for the following: \n",
    "1. Whether the average response time across complaint types is similar or not (overall) \n",
    "2. Are the type of complaint or service requested and location related"
   ]
  },
  {
   "cell_type": "markdown",
   "metadata": {
    "colab_type": "text",
    "id": "R9BkwWOGYYuG"
   },
   "source": [
    "## Is the average response time across complaint types similar or not (overall)?\n",
    "1. Null Hypothesis : The average response time across complaint types is similar\n",
    "2. Alternate Hypothesis : The average response time across complaint types is not similar"
   ]
  },
  {
   "cell_type": "code",
   "execution_count": 32,
   "metadata": {
    "colab": {
     "base_uri": "https://localhost:8080/"
    },
    "colab_type": "code",
    "id": "No0n_orpzDky",
    "outputId": "ef6bf8b1-0c1b-410f-c0b4-766f437a34c7"
   },
   "outputs": [
    {
     "data": {
      "text/plain": [
       "Blocked Driveway           76676\n",
       "Illegal Parking            74021\n",
       "Noise - Street/Sidewalk    47747\n",
       "Noise - Commercial         35145\n",
       "Derelict Vehicle           17506\n",
       "Name: Complaint Type, dtype: int64"
      ]
     },
     "execution_count": 32,
     "metadata": {},
     "output_type": "execute_result"
    }
   ],
   "source": [
    "top_5_complaint_type = nycsr['Complaint Type'].value_counts().head()\n",
    "top_5_complaint_type"
   ]
  },
  {
   "cell_type": "code",
   "execution_count": 33,
   "metadata": {
    "colab": {
     "base_uri": "https://localhost:8080/"
    },
    "colab_type": "code",
    "id": "gwmkEtez1ADt",
    "outputId": "90a10e46-f026-47be-b447-d18f01d7edbe"
   },
   "outputs": [
    {
     "data": {
      "text/plain": [
       "Index(['Blocked Driveway', 'Illegal Parking', 'Noise - Street/Sidewalk',\n",
       "       'Noise - Commercial', 'Derelict Vehicle'],\n",
       "      dtype='object')"
      ]
     },
     "execution_count": 33,
     "metadata": {},
     "output_type": "execute_result"
    }
   ],
   "source": [
    "top_5_complaint_type_names = top_5_complaint_type.index\n",
    "top_5_complaint_type_names"
   ]
  },
  {
   "cell_type": "code",
   "execution_count": 34,
   "metadata": {
    "colab": {
     "base_uri": "https://localhost:8080/"
    },
    "colab_type": "code",
    "id": "lLIFZaiEyQS2",
    "outputId": "5c525f1f-2a3a-4af1-fe43-3ed10d1f9118"
   },
   "outputs": [
    {
     "data": {
      "text/html": [
       "<div>\n",
       "<style scoped>\n",
       "    .dataframe tbody tr th:only-of-type {\n",
       "        vertical-align: middle;\n",
       "    }\n",
       "\n",
       "    .dataframe tbody tr th {\n",
       "        vertical-align: top;\n",
       "    }\n",
       "\n",
       "    .dataframe thead th {\n",
       "        text-align: right;\n",
       "    }\n",
       "</style>\n",
       "<table border=\"1\" class=\"dataframe\">\n",
       "  <thead>\n",
       "    <tr style=\"text-align: right;\">\n",
       "      <th></th>\n",
       "      <th>Complaint Type</th>\n",
       "      <th>Request_Closing_Time_hrs</th>\n",
       "    </tr>\n",
       "  </thead>\n",
       "  <tbody>\n",
       "    <tr>\n",
       "      <th>0</th>\n",
       "      <td>Noise - Street/Sidewalk</td>\n",
       "      <td>55.250000</td>\n",
       "    </tr>\n",
       "    <tr>\n",
       "      <th>1</th>\n",
       "      <td>Blocked Driveway</td>\n",
       "      <td>86.266667</td>\n",
       "    </tr>\n",
       "    <tr>\n",
       "      <th>2</th>\n",
       "      <td>Blocked Driveway</td>\n",
       "      <td>291.516667</td>\n",
       "    </tr>\n",
       "    <tr>\n",
       "      <th>3</th>\n",
       "      <td>Illegal Parking</td>\n",
       "      <td>465.233333</td>\n",
       "    </tr>\n",
       "    <tr>\n",
       "      <th>4</th>\n",
       "      <td>Illegal Parking</td>\n",
       "      <td>207.033333</td>\n",
       "    </tr>\n",
       "  </tbody>\n",
       "</table>\n",
       "</div>"
      ],
      "text/plain": [
       "            Complaint Type  Request_Closing_Time_hrs\n",
       "0  Noise - Street/Sidewalk                 55.250000\n",
       "1         Blocked Driveway                 86.266667\n",
       "2         Blocked Driveway                291.516667\n",
       "3          Illegal Parking                465.233333\n",
       "4          Illegal Parking                207.033333"
      ]
     },
     "execution_count": 34,
     "metadata": {},
     "output_type": "execute_result"
    }
   ],
   "source": [
    "sample_data_customer_type = nycsr.loc[nycsr['Complaint Type'].isin(top_5_complaint_type_names),['Complaint Type','Request_Closing_Time_hrs']]\n",
    "sample_data_customer_type.head()"
   ]
  },
  {
   "cell_type": "code",
   "execution_count": 35,
   "metadata": {
    "colab": {},
    "colab_type": "code",
    "id": "ADY41FIOI1-7"
   },
   "outputs": [
    {
     "data": {
      "text/plain": [
       "(251095, 2)"
      ]
     },
     "execution_count": 35,
     "metadata": {},
     "output_type": "execute_result"
    }
   ],
   "source": [
    "sample_data_customer_type.shape"
   ]
  },
  {
   "cell_type": "code",
   "execution_count": 36,
   "metadata": {
    "colab": {
     "base_uri": "https://localhost:8080/"
    },
    "colab_type": "code",
    "id": "hBpLrM1S10q_",
    "outputId": "75d0795e-4f8e-4c8b-eeae-f0d30cd710f1"
   },
   "outputs": [
    {
     "data": {
      "text/plain": [
       "1      86.266667\n",
       "2     291.516667\n",
       "7     107.916667\n",
       "9      83.033333\n",
       "10    468.033333\n",
       "Name: Request_Closing_Time_hrs, dtype: float64"
      ]
     },
     "execution_count": 36,
     "metadata": {},
     "output_type": "execute_result"
    }
   ],
   "source": [
    "s1 = sample_data_customer_type[sample_data_customer_type['Complaint Type']==top_5_complaint_type_names[0]].Request_Closing_Time_hrs\n",
    "s1.head()"
   ]
  },
  {
   "cell_type": "code",
   "execution_count": 37,
   "metadata": {
    "colab": {
     "base_uri": "https://localhost:8080/"
    },
    "colab_type": "code",
    "id": "7jSSDl2Y19jV",
    "outputId": "0341646f-5889-4457-aafc-c1b761e40ff8"
   },
   "outputs": [
    {
     "data": {
      "text/plain": [
       "3    465.233333\n",
       "4    207.033333\n",
       "5    113.500000\n",
       "6    117.466667\n",
       "8    513.033333\n",
       "Name: Request_Closing_Time_hrs, dtype: float64"
      ]
     },
     "execution_count": 37,
     "metadata": {},
     "output_type": "execute_result"
    }
   ],
   "source": [
    "s2 = sample_data_customer_type[sample_data_customer_type['Complaint Type']==top_5_complaint_type_names[1]].Request_Closing_Time_hrs\n",
    "s2.head()"
   ]
  },
  {
   "cell_type": "code",
   "execution_count": 38,
   "metadata": {
    "colab": {
     "base_uri": "https://localhost:8080/"
    },
    "colab_type": "code",
    "id": "u6dZnbth2rdn",
    "outputId": "982abc36-c25d-409b-f68d-a43da1d85eb1"
   },
   "outputs": [
    {
     "data": {
      "text/plain": [
       "0      55.250000\n",
       "12    148.950000\n",
       "19     47.083333\n",
       "38     29.466667\n",
       "54     89.733333\n",
       "Name: Request_Closing_Time_hrs, dtype: float64"
      ]
     },
     "execution_count": 38,
     "metadata": {},
     "output_type": "execute_result"
    }
   ],
   "source": [
    "s3 = sample_data_customer_type[sample_data_customer_type['Complaint Type']==top_5_complaint_type_names[2]].Request_Closing_Time_hrs\n",
    "s3.head()"
   ]
  },
  {
   "cell_type": "code",
   "execution_count": 39,
   "metadata": {
    "colab": {
     "base_uri": "https://localhost:8080/"
    },
    "colab_type": "code",
    "id": "pO1l8D8f2wOp",
    "outputId": "1a1c7757-6e8f-4744-c5af-4b40c88d667b"
   },
   "outputs": [
    {
     "data": {
      "text/plain": [
       "17     51.133333\n",
       "18    176.016667\n",
       "22     75.700000\n",
       "29    149.983333\n",
       "30    119.150000\n",
       "Name: Request_Closing_Time_hrs, dtype: float64"
      ]
     },
     "execution_count": 39,
     "metadata": {},
     "output_type": "execute_result"
    }
   ],
   "source": [
    "s4 = sample_data_customer_type[sample_data_customer_type['Complaint Type']==top_5_complaint_type_names[3]].Request_Closing_Time_hrs\n",
    "s4.head()"
   ]
  },
  {
   "cell_type": "code",
   "execution_count": 40,
   "metadata": {
    "colab": {
     "base_uri": "https://localhost:8080/"
    },
    "colab_type": "code",
    "id": "rkAmvz-d2wzc",
    "outputId": "48e6ee75-76ad-41f2-e63b-ffcc17107b24"
   },
   "outputs": [
    {
     "data": {
      "text/plain": [
       "14     629.383333\n",
       "151    237.016667\n",
       "255     81.883333\n",
       "256    247.983333\n",
       "295     45.200000\n",
       "Name: Request_Closing_Time_hrs, dtype: float64"
      ]
     },
     "execution_count": 40,
     "metadata": {},
     "output_type": "execute_result"
    }
   ],
   "source": [
    "s5 = sample_data_customer_type[sample_data_customer_type['Complaint Type']==top_5_complaint_type_names[4]].Request_Closing_Time_hrs\n",
    "s5.head()"
   ]
  },
  {
   "cell_type": "code",
   "execution_count": 41,
   "metadata": {
    "colab": {
     "base_uri": "https://localhost:8080/"
    },
    "colab_type": "code",
    "id": "McjxqPc625F1",
    "outputId": "6a4ce5a6-e188-4b6b-dd0e-8715d72c005f"
   },
   "outputs": [
    {
     "data": {
      "text/plain": [
       "F_onewayResult(statistic=1789.8760711625562, pvalue=0.0)"
      ]
     },
     "execution_count": 41,
     "metadata": {},
     "output_type": "execute_result"
    }
   ],
   "source": [
    "stats.f_oneway(s1, s2, s3, s4, s5)"
   ]
  },
  {
   "cell_type": "markdown",
   "metadata": {
    "colab_type": "text",
    "id": "_5VGFqGN28PN"
   },
   "source": [
    "Since the p-value is less than 0.05, null hypothesis is rejected. Hence the average response time across complaint types is not similar."
   ]
  },
  {
   "cell_type": "markdown",
   "metadata": {
    "colab_type": "text",
    "id": "OnZce3Pc3DfN"
   },
   "source": [
    "## Are the type of complaint or service requested and location related?\n",
    "1. Null Hypothesis : The complaint type and location are related\n",
    "2. Alternate Hypothesis : The complaint type and location are not related"
   ]
  },
  {
   "cell_type": "code",
   "execution_count": 42,
   "metadata": {
    "colab": {
     "base_uri": "https://localhost:8080/",
     "height": 119
    },
    "colab_type": "code",
    "id": "q0QouEhx341C",
    "outputId": "0a423cae-f1e4-4789-9d09-ed1c00dba624"
   },
   "outputs": [
    {
     "data": {
      "text/plain": [
       "BROOKLYN         98057\n",
       "NEW YORK         65365\n",
       "BRONX            40576\n",
       "STATEN ISLAND    12324\n",
       "JAMAICA           7276\n",
       "Name: City, dtype: int64"
      ]
     },
     "execution_count": 42,
     "metadata": {},
     "output_type": "execute_result"
    }
   ],
   "source": [
    "#chi square\n",
    "top_5_location = nycsr['City'].value_counts().head()\n",
    "top_5_location"
   ]
  },
  {
   "cell_type": "code",
   "execution_count": 43,
   "metadata": {
    "colab": {
     "base_uri": "https://localhost:8080/",
     "height": 34
    },
    "colab_type": "code",
    "id": "8i7PWuHP4L2A",
    "outputId": "55dcbdab-fa00-4602-e7dc-530ef015336e"
   },
   "outputs": [
    {
     "data": {
      "text/plain": [
       "Index(['BROOKLYN', 'NEW YORK', 'BRONX', 'STATEN ISLAND', 'JAMAICA'], dtype='object')"
      ]
     },
     "execution_count": 43,
     "metadata": {},
     "output_type": "execute_result"
    }
   ],
   "source": [
    "top_5_location_names = top_5_location.index\n",
    "top_5_location_names"
   ]
  },
  {
   "cell_type": "code",
   "execution_count": 44,
   "metadata": {
    "colab": {
     "base_uri": "https://localhost:8080/",
     "height": 419
    },
    "colab_type": "code",
    "id": "JPZZsUs54YSS",
    "outputId": "edf95bbd-373a-419b-85d0-6b2380525d39"
   },
   "outputs": [
    {
     "data": {
      "text/html": [
       "<div>\n",
       "<style scoped>\n",
       "    .dataframe tbody tr th:only-of-type {\n",
       "        vertical-align: middle;\n",
       "    }\n",
       "\n",
       "    .dataframe tbody tr th {\n",
       "        vertical-align: top;\n",
       "    }\n",
       "\n",
       "    .dataframe thead th {\n",
       "        text-align: right;\n",
       "    }\n",
       "</style>\n",
       "<table border=\"1\" class=\"dataframe\">\n",
       "  <thead>\n",
       "    <tr style=\"text-align: right;\">\n",
       "      <th></th>\n",
       "      <th>Complaint Type</th>\n",
       "      <th>City</th>\n",
       "    </tr>\n",
       "  </thead>\n",
       "  <tbody>\n",
       "    <tr>\n",
       "      <th>0</th>\n",
       "      <td>Noise - Street/Sidewalk</td>\n",
       "      <td>NEW YORK</td>\n",
       "    </tr>\n",
       "    <tr>\n",
       "      <th>2</th>\n",
       "      <td>Blocked Driveway</td>\n",
       "      <td>BRONX</td>\n",
       "    </tr>\n",
       "    <tr>\n",
       "      <th>3</th>\n",
       "      <td>Illegal Parking</td>\n",
       "      <td>BRONX</td>\n",
       "    </tr>\n",
       "    <tr>\n",
       "      <th>5</th>\n",
       "      <td>Illegal Parking</td>\n",
       "      <td>BROOKLYN</td>\n",
       "    </tr>\n",
       "    <tr>\n",
       "      <th>6</th>\n",
       "      <td>Illegal Parking</td>\n",
       "      <td>NEW YORK</td>\n",
       "    </tr>\n",
       "    <tr>\n",
       "      <th>...</th>\n",
       "      <td>...</td>\n",
       "      <td>...</td>\n",
       "    </tr>\n",
       "    <tr>\n",
       "      <th>300691</th>\n",
       "      <td>Noise - Commercial</td>\n",
       "      <td>NEW YORK</td>\n",
       "    </tr>\n",
       "    <tr>\n",
       "      <th>300692</th>\n",
       "      <td>Noise - Commercial</td>\n",
       "      <td>NEW YORK</td>\n",
       "    </tr>\n",
       "    <tr>\n",
       "      <th>300695</th>\n",
       "      <td>Noise - Commercial</td>\n",
       "      <td>BROOKLYN</td>\n",
       "    </tr>\n",
       "    <tr>\n",
       "      <th>300696</th>\n",
       "      <td>Noise - Commercial</td>\n",
       "      <td>BRONX</td>\n",
       "    </tr>\n",
       "    <tr>\n",
       "      <th>300697</th>\n",
       "      <td>Noise - Commercial</td>\n",
       "      <td>NEW YORK</td>\n",
       "    </tr>\n",
       "  </tbody>\n",
       "</table>\n",
       "<p>184826 rows × 2 columns</p>\n",
       "</div>"
      ],
      "text/plain": [
       "                 Complaint Type      City\n",
       "0       Noise - Street/Sidewalk  NEW YORK\n",
       "2              Blocked Driveway     BRONX\n",
       "3               Illegal Parking     BRONX\n",
       "5               Illegal Parking  BROOKLYN\n",
       "6               Illegal Parking  NEW YORK\n",
       "...                         ...       ...\n",
       "300691       Noise - Commercial  NEW YORK\n",
       "300692       Noise - Commercial  NEW YORK\n",
       "300695       Noise - Commercial  BROOKLYN\n",
       "300696       Noise - Commercial     BRONX\n",
       "300697       Noise - Commercial  NEW YORK\n",
       "\n",
       "[184826 rows x 2 columns]"
      ]
     },
     "execution_count": 44,
     "metadata": {},
     "output_type": "execute_result"
    }
   ],
   "source": [
    "sample_data_location_type = nycsr.loc[(nycsr['Complaint Type'].isin(top_5_complaint_type_names))&(nycsr['City'].isin(top_5_location_names)),['Complaint Type','City']]\n",
    "sample_data_location_type"
   ]
  },
  {
   "cell_type": "code",
   "execution_count": 45,
   "metadata": {
    "colab": {
     "base_uri": "https://localhost:8080/",
     "height": 266
    },
    "colab_type": "code",
    "id": "YFg4nxi65lEM",
    "outputId": "4ecdf8fd-af37-48a2-fb1c-fb3149c92a7e"
   },
   "outputs": [
    {
     "data": {
      "text/html": [
       "<div>\n",
       "<style scoped>\n",
       "    .dataframe tbody tr th:only-of-type {\n",
       "        vertical-align: middle;\n",
       "    }\n",
       "\n",
       "    .dataframe tbody tr th {\n",
       "        vertical-align: top;\n",
       "    }\n",
       "\n",
       "    .dataframe thead th {\n",
       "        text-align: right;\n",
       "    }\n",
       "</style>\n",
       "<table border=\"1\" class=\"dataframe\">\n",
       "  <thead>\n",
       "    <tr style=\"text-align: right;\">\n",
       "      <th>City</th>\n",
       "      <th>BRONX</th>\n",
       "      <th>BROOKLYN</th>\n",
       "      <th>JAMAICA</th>\n",
       "      <th>NEW YORK</th>\n",
       "      <th>STATEN ISLAND</th>\n",
       "      <th>All</th>\n",
       "    </tr>\n",
       "    <tr>\n",
       "      <th>Complaint Type</th>\n",
       "      <th></th>\n",
       "      <th></th>\n",
       "      <th></th>\n",
       "      <th></th>\n",
       "      <th></th>\n",
       "      <th></th>\n",
       "    </tr>\n",
       "  </thead>\n",
       "  <tbody>\n",
       "    <tr>\n",
       "      <th>Blocked Driveway</th>\n",
       "      <td>12740</td>\n",
       "      <td>28119</td>\n",
       "      <td>2815</td>\n",
       "      <td>2055</td>\n",
       "      <td>2141</td>\n",
       "      <td>47870</td>\n",
       "    </tr>\n",
       "    <tr>\n",
       "      <th>Derelict Vehicle</th>\n",
       "      <td>1948</td>\n",
       "      <td>5164</td>\n",
       "      <td>953</td>\n",
       "      <td>530</td>\n",
       "      <td>1762</td>\n",
       "      <td>10357</td>\n",
       "    </tr>\n",
       "    <tr>\n",
       "      <th>Illegal Parking</th>\n",
       "      <td>7829</td>\n",
       "      <td>27386</td>\n",
       "      <td>1419</td>\n",
       "      <td>11979</td>\n",
       "      <td>4881</td>\n",
       "      <td>53494</td>\n",
       "    </tr>\n",
       "    <tr>\n",
       "      <th>Noise - Commercial</th>\n",
       "      <td>2431</td>\n",
       "      <td>11451</td>\n",
       "      <td>427</td>\n",
       "      <td>14529</td>\n",
       "      <td>677</td>\n",
       "      <td>29515</td>\n",
       "    </tr>\n",
       "    <tr>\n",
       "      <th>Noise - Street/Sidewalk</th>\n",
       "      <td>8865</td>\n",
       "      <td>13316</td>\n",
       "      <td>328</td>\n",
       "      <td>20266</td>\n",
       "      <td>815</td>\n",
       "      <td>43590</td>\n",
       "    </tr>\n",
       "    <tr>\n",
       "      <th>All</th>\n",
       "      <td>33813</td>\n",
       "      <td>85436</td>\n",
       "      <td>5942</td>\n",
       "      <td>49359</td>\n",
       "      <td>10276</td>\n",
       "      <td>184826</td>\n",
       "    </tr>\n",
       "  </tbody>\n",
       "</table>\n",
       "</div>"
      ],
      "text/plain": [
       "City                     BRONX  BROOKLYN  JAMAICA  NEW YORK  STATEN ISLAND  \\\n",
       "Complaint Type                                                               \n",
       "Blocked Driveway         12740     28119     2815      2055           2141   \n",
       "Derelict Vehicle          1948      5164      953       530           1762   \n",
       "Illegal Parking           7829     27386     1419     11979           4881   \n",
       "Noise - Commercial        2431     11451      427     14529            677   \n",
       "Noise - Street/Sidewalk   8865     13316      328     20266            815   \n",
       "All                      33813     85436     5942     49359          10276   \n",
       "\n",
       "City                        All  \n",
       "Complaint Type                   \n",
       "Blocked Driveway          47870  \n",
       "Derelict Vehicle          10357  \n",
       "Illegal Parking           53494  \n",
       "Noise - Commercial        29515  \n",
       "Noise - Street/Sidewalk   43590  \n",
       "All                      184826  "
      ]
     },
     "execution_count": 45,
     "metadata": {},
     "output_type": "execute_result"
    }
   ],
   "source": [
    "table = pd.crosstab(sample_data_location_type['Complaint Type'],sample_data_location_type['City'],margins=True)\n",
    "table"
   ]
  },
  {
   "cell_type": "code",
   "execution_count": 46,
   "metadata": {
    "colab": {
     "base_uri": "https://localhost:8080/",
     "height": 51
    },
    "colab_type": "code",
    "id": "Cyl2YG0057j_",
    "outputId": "4255cc11-ea4b-4f39-89ba-e9dd49780d9e"
   },
   "outputs": [
    {
     "name": "stdout",
     "output_type": "stream",
     "text": [
      "ch2 = 40498.5539022086\n",
      "p-value = 0.0\n"
     ]
    }
   ],
   "source": [
    "ch2,p_value,df,exp_frq = chi2_contingency(table)\n",
    "print(\"ch2 = {}\\np-value = {}\" .format(ch2,p_value))"
   ]
  },
  {
   "cell_type": "markdown",
   "metadata": {
    "colab_type": "text",
    "id": "3fCYPAGA6yvb"
   },
   "source": [
    "Since the p-value is less than 0.05, null hypothesis is rejected. Hence the complaint type and location are not related."
   ]
  },
  {
   "cell_type": "markdown",
   "metadata": {},
   "source": [
    "# ---X---"
   ]
  }
 ],
 "metadata": {
  "colab": {
   "collapsed_sections": [
    "77TlbdcNusq7",
    "ZxfCsJTGuoUb",
    "ud12gmSGucuW"
   ],
   "machine_shape": "hm",
   "name": "DSP Project 1 - Customer Service Requests Analysis.ipynb",
   "provenance": []
  },
  "kernelspec": {
   "display_name": "Python 3",
   "language": "python",
   "name": "python3"
  },
  "language_info": {
   "codemirror_mode": {
    "name": "ipython",
    "version": 3
   },
   "file_extension": ".py",
   "mimetype": "text/x-python",
   "name": "python",
   "nbconvert_exporter": "python",
   "pygments_lexer": "ipython3",
   "version": "3.9.2"
  }
 },
 "nbformat": 4,
 "nbformat_minor": 4
}
